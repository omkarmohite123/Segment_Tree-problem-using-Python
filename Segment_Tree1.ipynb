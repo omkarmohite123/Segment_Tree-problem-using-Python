{
  "nbformat": 4,
  "nbformat_minor": 0,
  "metadata": {
    "colab": {
      "provenance": [],
      "authorship_tag": "ABX9TyN/D1gKlmiZ5TpMQvogya9/",
      "include_colab_link": true
    },
    "kernelspec": {
      "name": "python3",
      "display_name": "Python 3"
    },
    "language_info": {
      "name": "python"
    }
  },
  "cells": [
    {
      "cell_type": "markdown",
      "metadata": {
        "id": "view-in-github",
        "colab_type": "text"
      },
      "source": [
        "<a href=\"https://colab.research.google.com/github/omkarmohite123/Segment_Tree-problem-using-Python/blob/main/Segment_Tree1.ipynb\" target=\"_parent\"><img src=\"https://colab.research.google.com/assets/colab-badge.svg\" alt=\"Open In Colab\"/></a>"
      ]
    },
    {
      "cell_type": "code",
      "source": [
        "\"\"\"\n",
        "Carlos is a building demolisher. He has been employed by “Competitive Programmers Inc” to destroy their old office so they can build a new office space. However being programmers they have built their office in a modular way having N separate offices in a line instead of having all the offices in a single building.Carlos however is lazy and only demolishes a building occasionally. \n",
        "The competitive programmers also occasionally check on his work . They want to know the maximum height of a building from buildings number L to R.\n",
        "Initially all the buildings have the same height of X meters\n",
        "Two types of events can occur:\n",
        "1 x y : carlos demolishes building x by y meters\n",
        "2 x y : CP inc want to know the maximum height of buildings from building x to building.Report it\n",
        "Help carlos answer the questions and do the events accordingly\n",
        " \n",
        "\n",
        "Input Description:\n",
        "The first line contains a single integer N X Q denoting the number of buildings and the initial heights of all buildings and the number of events The next Q lines can be either of the following: 1 x y or 2 x y as explained above\n",
        "\n",
        "Output Description:\n",
        "For each event of type 2 report the maximum height of buildings from building 'x' to building 'y' in a single line\n",
        "\n",
        "Sample Input :\n",
        "4\n",
        "1 2 3 4\n",
        "1 1 1\n",
        "2 1 4\n",
        "Sample Output :\n",
        "4\n",
        "\n",
        "\"\"\""
      ],
      "metadata": {
        "id": "X261EmoPEPK4"
      },
      "execution_count": null,
      "outputs": []
    },
    {
      "cell_type": "code",
      "source": [
        "n = int(input()) \n",
        "l = [int(x) for x in input().split()] \n",
        "q = int(input()) \n",
        "for _ in range(q):\n",
        "    a = [int(x) for x in input().split()] \n",
        "    if a[0] == 1:\n",
        "        l[a[1]-1] = l[a[1]-1] - a[2]\n",
        "        if l[a[1]-1] < 0:l[a[1]-1]=0 \n",
        "    if(a[0]==2):\n",
        "        print(max(l[a[1]-1:a[2]]))"
      ],
      "metadata": {
        "colab": {
          "base_uri": "https://localhost:8080/"
        },
        "id": "8I7lq-meEPVV",
        "outputId": "2117dd66-c755-4439-9232-4401efc6bef1"
      },
      "execution_count": 17,
      "outputs": [
        {
          "name": "stdout",
          "output_type": "stream",
          "text": [
            "4\n",
            "1 2 3 4\n",
            "2\n",
            "1 1 1\n",
            "1 2 4\n"
          ]
        }
      ]
    }
  ]
}