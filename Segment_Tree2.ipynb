{
  "nbformat": 4,
  "nbformat_minor": 0,
  "metadata": {
    "colab": {
      "provenance": [],
      "authorship_tag": "ABX9TyN/AfKC0Uz6PT4Wr0lZ06wt",
      "include_colab_link": true
    },
    "kernelspec": {
      "name": "python3",
      "display_name": "Python 3"
    },
    "language_info": {
      "name": "python"
    }
  },
  "cells": [
    {
      "cell_type": "markdown",
      "metadata": {
        "id": "view-in-github",
        "colab_type": "text"
      },
      "source": [
        "<a href=\"https://colab.research.google.com/github/omkarmohite123/Segment_Tree-problem-using-Python/blob/main/Segment_Tree2.ipynb\" target=\"_parent\"><img src=\"https://colab.research.google.com/assets/colab-badge.svg\" alt=\"Open In Colab\"/></a>"
      ]
    },
    {
      "cell_type": "code",
      "source": [
        "\"\"\"\n",
        "The citizens of the golden kingdom are fed up of their ruler King Gold who has been using up all the citizens money for desire of owning all the gold in the world . The citizens wanting to topple the king come up with a plan. They decide to build N statues (numbered 1 to N) of the king made of gold in front of his palace so he will spend all his time admiring the statues and will not care about the people as they overthrow his army. The king however only admires pure gold only and can easily detect fake gold . Out of the N barricades some of them are made of fake gold and some of them are made of pure gold. The king on each visit to the palace gates will inspect and admire all gold statues from some statue numbered X to statue numbered Y . Whenever he detects that a statue is not made of real gold he feels dissatisfied. The citizens can also modify statues to make them of real gold or they can replace a pure gold statue with fake gold. Everytime the king inspects the statues if the number of fake statues is greater than the number of real statues he feels “dissatsfied” or if the number of real statues is greater he feels “satisfied” or if the number of statues are equal he feels “neutral”\n",
        " \n",
        "\n",
        "Input Description:\n",
        "The first line contains a single integer N denoting the number of statues that have been built. The next line contains N integers either 0 or 1 denoting: 0-> fake statue or 1->real statue The next line contains a single integer Q denoting the number of events that can take place The next Q lines can be either of the following: 1 x : the citizens replace the statue numbered x . If its fake it will be replaced with a real statue or if its real it will be replaced with a fake statue 2 x y: The king checks the statues from statue numbered x to statue numbered y .\n",
        "\n",
        "Output Description:\n",
        "For each type 2 events output any one of the following: “Dissatisfied” , “Satisfied” , “Neutral” as given in the problem statement (output without quotes)\n",
        "\n",
        "Sample Input :\n",
        "4\n",
        "1 1 1 0\n",
        "1 1\n",
        "2 1 4\n",
        "Sample Output :\n",
        "Neutral\n",
        "\n",
        "\"\"\""
      ],
      "metadata": {
        "id": "ULcR__GFFdjW"
      },
      "execution_count": null,
      "outputs": []
    },
    {
      "cell_type": "code",
      "source": [
        "n = int(input())\n",
        "l = [int(x) for x in input().split()]\n",
        "q = n-2\n",
        "for _ in range(q):\n",
        "    a = [int(x) for x in input().split()]\n",
        "    if a[0] == 1:\n",
        "        if l[a[1]-1] == 0: l[a[1]-1] = 1\n",
        "        else:l[a[1]-1] = 0\n",
        "    if a[0] == 2:\n",
        "        x = l[a[1]-1 : a[2]].count(1)\n",
        "        y = l[a[1]-1 : a[2]].count(0)\n",
        "        if x == y:print(\"Neutral\")\n",
        "        elif x > y:print(\"Satisfied\")\n",
        "        else:print(\"Dissatisfied\")"
      ],
      "metadata": {
        "colab": {
          "base_uri": "https://localhost:8080/"
        },
        "id": "tgB1UMQTFdsf",
        "outputId": "3b8f10c3-7eb7-4fc1-fb12-6e996346373a"
      },
      "execution_count": 19,
      "outputs": [
        {
          "output_type": "stream",
          "name": "stdout",
          "text": [
            "4\n",
            "1 1 1 0\n",
            "1 1\n",
            "2 1 4\n",
            "Neutral\n"
          ]
        }
      ]
    }
  ]
}