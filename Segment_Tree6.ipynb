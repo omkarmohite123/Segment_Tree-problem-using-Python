{
  "nbformat": 4,
  "nbformat_minor": 0,
  "metadata": {
    "colab": {
      "provenance": [],
      "authorship_tag": "ABX9TyPrf49JIQxF8vqDP7ohEDq3",
      "include_colab_link": true
    },
    "kernelspec": {
      "name": "python3",
      "display_name": "Python 3"
    },
    "language_info": {
      "name": "python"
    }
  },
  "cells": [
    {
      "cell_type": "markdown",
      "metadata": {
        "id": "view-in-github",
        "colab_type": "text"
      },
      "source": [
        "<a href=\"https://colab.research.google.com/github/omkarmohite123/Segment_Tree-problem-using-Python/blob/main/Segment_Tree6.ipynb\" target=\"_parent\"><img src=\"https://colab.research.google.com/assets/colab-badge.svg\" alt=\"Open In Colab\"/></a>"
      ]
    },
    {
      "cell_type": "code",
      "source": [
        "\"\"\"\n",
        "Rocky is training to become a boxer and hence has to eat properly.His trainer however suspects that he hasn’t been eating properly . So his trainer comes up with N types of food for rocky to eat. The amount of each food is given as A[i].Two types of event can happen\n",
        "Type 1: 1 i x : Rocky eats x amount of food of A[i] \n",
        "( if there is food less than x he eats all of it)\n",
        "Type 2: 2 l r m : The trainer checks if the total amount of food rocky has not eaten from type l to type r is at most m . If it is at most m he is “satisfied” else he is “disappointed”.\n",
        "Given that a total of Q types of events happen and for each type 2 event display if the trainer will be “satisfied” or “disappointed”\n",
        " \n",
        "\n",
        "Input Description:\n",
        "The first line contains an integer N - the no of days The second line consists of N integers - the amount of food he has to eat for N days The third line has a single integer Q - the no of events The next Q lines contains either of the following 1 i x : type 1 2 l r m : type 2\n",
        "\n",
        "Output Description:\n",
        "For each event of type 2 display whether his trainer is “satisfied” or “dissatisfied”. If the trainer asks no questions no need to output anything.\n",
        "\n",
        "Sample Input :\n",
        "4\n",
        "1 2 3 4\n",
        "3\n",
        "1 1 1\n",
        "2 1 3 3\n",
        "2 1 3 2\n",
        "Sample Output :\n",
        "satisfied\n",
        "dissappointed\n",
        "\n",
        "\"\"\""
      ],
      "metadata": {
        "id": "vYQVPDDjHcgH"
      },
      "execution_count": null,
      "outputs": []
    },
    {
      "cell_type": "code",
      "source": [
        "n = int(input()) \n",
        "l = [int(x) for x in input().split()] \n",
        "q = int(input()) \n",
        "for _ in range(q):\n",
        "    a = [int(x) for x in input().split()] \n",
        "    if a[0] == 1:\n",
        "        l[a[1]-1] = l[a[1]-1] - a[2]\n",
        "        if l[a[1]-1] < 0:\n",
        "            l[a[1]-1] = 0\n",
        "    if a[0]==2:\n",
        "        flag = True\n",
        "        for i in range(a[1]-1, a[2]):\n",
        "            if l[i] > a[3]:\n",
        "                flag = False \n",
        "                break \n",
        "        if flag:print(\"satisfied\")\n",
        "        else:print(\"disappointed\")"
      ],
      "metadata": {
        "colab": {
          "base_uri": "https://localhost:8080/"
        },
        "id": "bj17TWstHcn9",
        "outputId": "cfe57305-5929-4514-98b0-c785b9903baa"
      },
      "execution_count": 24,
      "outputs": [
        {
          "output_type": "stream",
          "name": "stdout",
          "text": [
            "4\n",
            "1 2 3 4\n",
            "3\n",
            "1 1 1\n",
            "2 1 3 3\n",
            "satisfied\n",
            "2 1 3 2\n",
            "disappointed\n"
          ]
        }
      ]
    }
  ]
}