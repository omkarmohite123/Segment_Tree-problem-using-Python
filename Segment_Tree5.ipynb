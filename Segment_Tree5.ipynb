{
  "nbformat": 4,
  "nbformat_minor": 0,
  "metadata": {
    "colab": {
      "provenance": [],
      "authorship_tag": "ABX9TyNC3khEsBUmgPL7PVFltZWY",
      "include_colab_link": true
    },
    "kernelspec": {
      "name": "python3",
      "display_name": "Python 3"
    },
    "language_info": {
      "name": "python"
    }
  },
  "cells": [
    {
      "cell_type": "markdown",
      "metadata": {
        "id": "view-in-github",
        "colab_type": "text"
      },
      "source": [
        "<a href=\"https://colab.research.google.com/github/omkarmohite123/Segment_Tree-problem-using-Python/blob/main/Segment_Tree5.ipynb\" target=\"_parent\"><img src=\"https://colab.research.google.com/assets/colab-badge.svg\" alt=\"Open In Colab\"/></a>"
      ]
    },
    {
      "cell_type": "code",
      "source": [
        "\"\"\"\n",
        "The problem statement is simple : you are given an array of integers having N integers.\n",
        "All integers are positive and greater than 0.\n",
        "You are given Q queries.\n",
        "In each query you must report the gcd of the numbers in the given range L to R\n",
        "In other words assume the array is A[1] A[2] A[3].....A[N] (1-based indexing)\n",
        "gcd[L,R]= gcd(A[L],A[L+1].....A[R])\n",
        " \n",
        "\n",
        "Input Description:\n",
        "The first line contain a single integer N denoting the number of integers The second line contains N integers: the contents if the array A. The third line contains a single integer Q denoting the number of queries The next Q line has two integers each L R : denoting the gcd of the range[L,R]\n",
        "\n",
        "Output Description:\n",
        "Your output must consist of Q lines each line containing the range gcd for a query\n",
        "\n",
        "Sample Input :\n",
        "4\n",
        "1 2 2 1\n",
        "2\n",
        "2 3\n",
        "1 4\n",
        "Sample Output :\n",
        "2\n",
        "1\n",
        "\n",
        "\"\"\""
      ],
      "metadata": {
        "id": "gEobKkeNGyvP"
      },
      "execution_count": null,
      "outputs": []
    },
    {
      "cell_type": "code",
      "source": [
        "import math\n",
        "n = int(input())\n",
        "l = [int(x) for x in input().split()]\n",
        "q = int(input())\n",
        "for _ in range(q):\n",
        "    (a, b) = map(int, input().split())\n",
        "    ans = l[a-1]\n",
        "    for i in range(a, b):\n",
        "        ans = math.gcd(ans, l[i])\n",
        "    print(ans)"
      ],
      "metadata": {
        "colab": {
          "base_uri": "https://localhost:8080/"
        },
        "id": "bq-lJKxFGy6U",
        "outputId": "b99d85e2-9afa-45bc-8a2e-d325d0eba163"
      },
      "execution_count": 23,
      "outputs": [
        {
          "output_type": "stream",
          "name": "stdout",
          "text": [
            "4\n",
            "1 2 2 1\n",
            "2\n",
            "2 3\n",
            "2\n",
            "1 4\n",
            "1\n"
          ]
        }
      ]
    }
  ]
}