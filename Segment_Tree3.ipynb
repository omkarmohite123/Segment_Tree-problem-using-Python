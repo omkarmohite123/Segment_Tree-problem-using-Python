{
  "nbformat": 4,
  "nbformat_minor": 0,
  "metadata": {
    "colab": {
      "provenance": [],
      "authorship_tag": "ABX9TyNoM9+bq5sHNbRKTFanWHgU",
      "include_colab_link": true
    },
    "kernelspec": {
      "name": "python3",
      "display_name": "Python 3"
    },
    "language_info": {
      "name": "python"
    }
  },
  "cells": [
    {
      "cell_type": "markdown",
      "metadata": {
        "id": "view-in-github",
        "colab_type": "text"
      },
      "source": [
        "<a href=\"https://colab.research.google.com/github/omkarmohite123/Segment_Tree-problem-using-Python/blob/main/Segment_Tree3.ipynb\" target=\"_parent\"><img src=\"https://colab.research.google.com/assets/colab-badge.svg\" alt=\"Open In Colab\"/></a>"
      ]
    },
    {
      "cell_type": "code",
      "source": [
        "\"\"\"\n",
        "Batman’s cave is being invaded by Bane.To fight off Bane , Batman deploys N Batmobiles each with a different power given by P[i] 1<=i<=N. (1- based indexing for tanks)\n",
        "\n",
        "The tanks however are prone to damage from Bane's attacks and he can decrease the power of any tank he wants by a certain amount.Since Bane's energy source is not consistent each attack of bane will have a different power 'y' . So he attacks a tank a tank numbered 'x' with power 'y' .\n",
        "\n",
        "Batman on the other hand can reinforce tanks and increase their power with a certain amount . so Batman can increase the power of a tank 'x' by 'y' .\n",
        "\n",
        "Batman will flee if the power of a tank falls to 0. He checks if any tank from tank number 'x' to tank number 'y' have power 0. If so he will \"escape\" or he will \"stay and fight\"\n",
        "\n",
        "Before actually fighting bane he decides to run a simulation of the scenarios that can take place.Help him simulate the scenario.\n",
        "\n",
        "Input Description:\n",
        "The first line contains an integer N - the number of batmobiles The second line contains the power of all the batmobiles The third line consists of a single integer Q- the number of events The next Q lines can be either of the following two: 1 x y- Batman increases the power of batmobile x by power y 2 x y - Bane attacks batmobile x with power y 3 x y - Batman wants to know if the power of any batmobile from batmobile x to batmobile y is 0.If its zero he’ll “escape” or “stay and fight”\n",
        "\n",
        "Output Description:\n",
        "For each event of type 3 output whether batman will “escape” or “stay and fight”\n",
        "\n",
        "Sample Input :\n",
        "4\n",
        "1 2 3 4\n",
        "2\n",
        "2 1 1\n",
        "3 1 4\n",
        "Sample Output :\n",
        "escape\n",
        "\n",
        "\"\"\""
      ],
      "metadata": {
        "id": "LWo8r-pBGBT9"
      },
      "execution_count": null,
      "outputs": []
    },
    {
      "cell_type": "code",
      "source": [
        "n = int(input())\n",
        "l = [int(x) for x in input().split()]\n",
        "q = int(input())\n",
        "for _ in range(q):\n",
        "    (op, x, y) = map(int, input().split())\n",
        "    if op == 1:\n",
        "        l[x-1] += y\n",
        "    if op == 2:\n",
        "        l[x-1] -= y\n",
        "        if l[x-1] < 0:l[x-1] = 0\n",
        "    if op == 3:\n",
        "        if 0 in l[x-1 : y]:print(\"escape\")\n",
        "        else:print(\"stay and fight\")"
      ],
      "metadata": {
        "colab": {
          "base_uri": "https://localhost:8080/"
        },
        "id": "xU6br_beGBb_",
        "outputId": "34529dda-43c5-4130-e966-109148f6ec00"
      },
      "execution_count": 20,
      "outputs": [
        {
          "output_type": "stream",
          "name": "stdout",
          "text": [
            "4\n",
            "1 2 3 4\n",
            "2\n",
            "1 1 1\n",
            "3 1 4\n",
            "stay and fight\n"
          ]
        }
      ]
    }
  ]
}