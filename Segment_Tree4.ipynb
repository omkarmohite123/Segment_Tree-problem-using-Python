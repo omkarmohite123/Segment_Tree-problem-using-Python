{
  "nbformat": 4,
  "nbformat_minor": 0,
  "metadata": {
    "colab": {
      "provenance": [],
      "authorship_tag": "ABX9TyPd+eI/nJXgGHkgX3pL46qU",
      "include_colab_link": true
    },
    "kernelspec": {
      "name": "python3",
      "display_name": "Python 3"
    },
    "language_info": {
      "name": "python"
    }
  },
  "cells": [
    {
      "cell_type": "markdown",
      "metadata": {
        "id": "view-in-github",
        "colab_type": "text"
      },
      "source": [
        "<a href=\"https://colab.research.google.com/github/omkarmohite123/Segment_Tree-problem-using-Python/blob/main/Segment_Tree4.ipynb\" target=\"_parent\"><img src=\"https://colab.research.google.com/assets/colab-badge.svg\" alt=\"Open In Colab\"/></a>"
      ]
    },
    {
      "cell_type": "code",
      "source": [
        "\"\"\"\n",
        "The question is simple.\n",
        "You are given an array X of N numbers. We have Q queries which can be either of the following forms:\n",
        "1 x y S  : increase numbers from X[x]. X[x+1] ….X[y] by S\n",
        "2 x y : Find the maximum of numbers from X[x] . X[x+1] . X[x+2]....X[y]\n",
        "Perform the above operations and report the answer \n",
        "\n",
        "Input Description:\n",
        "First line contains an single integer N denoting the number of integers in X Second line contains N integers the contents of X The next line contains a single integer Q : the number of queries The next Q lines contains either: 1 x y S (or) 2 x y\n",
        "\n",
        "Output Description:\n",
        "For each query of type 2 output the maximum in a single line\n",
        "\n",
        "Sample Input :\n",
        "4\n",
        "1 2 3 4\n",
        "2\n",
        "1 1 2 1\n",
        "2 1 4\n",
        "Sample Output :\n",
        "4\n",
        "\n",
        "\"\"\""
      ],
      "metadata": {
        "id": "Qaki4vJKGaMf"
      },
      "execution_count": null,
      "outputs": []
    },
    {
      "cell_type": "code",
      "source": [
        "n = int(input())\n",
        "l = [int(x) for x in input().split()]\n",
        "q = int(input())\n",
        "for _ in range(q):\n",
        "    a = [int(x) for x in input().split()]\n",
        "    if a[0] == 1:\n",
        "        for i in range(a[1], a[2]+1):\n",
        "            l[i-1] = l[i-1] + a[3]\n",
        "    if a[0] == 2:\n",
        "        print(max(l[a[1]-1:a[2]]))"
      ],
      "metadata": {
        "colab": {
          "base_uri": "https://localhost:8080/"
        },
        "id": "hDKzq1oNGaXW",
        "outputId": "608f64c0-fd47-43b0-d2ba-b1bb8977d249"
      },
      "execution_count": 21,
      "outputs": [
        {
          "output_type": "stream",
          "name": "stdout",
          "text": [
            "4\n",
            "1 2 3 4\n",
            "2\n",
            "1 1 2 1\n",
            "2 1 4\n",
            "4\n"
          ]
        }
      ]
    }
  ]
}