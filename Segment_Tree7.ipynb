{
  "nbformat": 4,
  "nbformat_minor": 0,
  "metadata": {
    "colab": {
      "provenance": [],
      "authorship_tag": "ABX9TyNsTEBvPSc/gQmKGyLP9Jei",
      "include_colab_link": true
    },
    "kernelspec": {
      "name": "python3",
      "display_name": "Python 3"
    },
    "language_info": {
      "name": "python"
    }
  },
  "cells": [
    {
      "cell_type": "markdown",
      "metadata": {
        "id": "view-in-github",
        "colab_type": "text"
      },
      "source": [
        "<a href=\"https://colab.research.google.com/github/omkarmohite123/Segment_Tree-problem-using-Python/blob/main/Segment_Tree7.ipynb\" target=\"_parent\"><img src=\"https://colab.research.google.com/assets/colab-badge.svg\" alt=\"Open In Colab\"/></a>"
      ]
    },
    {
      "cell_type": "code",
      "source": [
        "\"\"\"\n",
        "Jack lives in the tri state area which is notorious for robberies. So as a responsible citizen of his community he has set up N baits to catch the robbers . The bait is in the form of a house containing a certain amount of money. His local community however do not have consistent funds and do not regularly supply him with money for the baits. Also , they are scared that the robbers will steal their money so they want their money back sometimes. Initially all the houses have some amount of money which will be given . Three types of events can happen :\n",
        "1 x y z : The community gives Z amount of money for each house from house x to house y to   set up baits\n",
        "2 x y z: The community takes away Z amount of money from each house from house x to house y as they are scared they will lose their money. If amount of money in each house is less than Z all the money is taken away from that house and it’ll become 0.\n",
        "3 x y : Jack wants to know what is the sum of the money from house x to house y. \n",
        "\n",
        "These three scenarios can happen multiple times, one after the other in any fashion.\n",
        "\n",
        "(For example : the order of events could be event1,event2,event1,event3 etc.)\n",
        "Help Jack perform the above operations and report the required answer successfully \n",
        "\n",
        "Input Description:\n",
        "The first line contains a single integer N :the number of houses he sets up as bait The second line contains N integers denoting the initial money in all the houses The third line contains a single integer E : the number of events that can happen The next E lines can be either one of the three events as described in the problem statement: 1 x y z (OR) 2 x y z (OR) 3 x y\n",
        "\n",
        "Output Description:\n",
        "Output a single line containing the sum of money in all houses from house x to house y for each event of type 3\n",
        "\n",
        "Sample Input :\n",
        "4\n",
        "1 2 3 4\n",
        "1 1 2 1\n",
        "2 1 2 1\n",
        "3 1 2\n",
        "Sample Output :\n",
        "7\n",
        "\n",
        "\"\"\""
      ],
      "metadata": {
        "id": "Iaw1ay96IEq0"
      },
      "execution_count": null,
      "outputs": []
    },
    {
      "cell_type": "code",
      "source": [
        "#n = int(input())\n",
        "#l = [int(x) for x in input().split()]\n",
        "e = int(input())\n",
        "for _ in range(e):\n",
        "    a = [int(x) for x in input().split()]\n",
        "    if a[0] == 1:\n",
        "        for i in range(a[1], a[2]+1):\n",
        "            l[i-1] = l[i-1] + a[3]\n",
        "    if a[0] == 2:\n",
        "        for i in range(a[1], a[2]+1):\n",
        "            l[i-1] = l[i-1] - a[3]\n",
        "            if l[i-1] < 0:l[i-1] = 0\n",
        "    if a[0] == 3:\n",
        "        print(sum(l[a[1]-1 : a[2]]))\n",
        "        "
      ],
      "metadata": {
        "colab": {
          "base_uri": "https://localhost:8080/"
        },
        "id": "hVp85nu4IE1c",
        "outputId": "a2f1951b-f181-4bb9-f314-b5f18ad0ef67"
      },
      "execution_count": 26,
      "outputs": [
        {
          "output_type": "stream",
          "name": "stdout",
          "text": [
            "4\n",
            "1 2 3 4\n",
            "1 1 2 1\n",
            "2 1 2 1\n",
            "3 1 2\n",
            "7\n"
          ]
        }
      ]
    }
  ]
}