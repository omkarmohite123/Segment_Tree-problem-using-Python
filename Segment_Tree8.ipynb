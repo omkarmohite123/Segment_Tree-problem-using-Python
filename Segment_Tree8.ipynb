{
  "nbformat": 4,
  "nbformat_minor": 0,
  "metadata": {
    "colab": {
      "provenance": [],
      "authorship_tag": "ABX9TyPFx2hF2jhtKAHpv24hXpee",
      "include_colab_link": true
    },
    "kernelspec": {
      "name": "python3",
      "display_name": "Python 3"
    },
    "language_info": {
      "name": "python"
    }
  },
  "cells": [
    {
      "cell_type": "markdown",
      "metadata": {
        "id": "view-in-github",
        "colab_type": "text"
      },
      "source": [
        "<a href=\"https://colab.research.google.com/github/omkarmohite123/Segment_Tree-problem-using-Python/blob/main/Segment_Tree8.ipynb\" target=\"_parent\"><img src=\"https://colab.research.google.com/assets/colab-badge.svg\" alt=\"Open In Colab\"/></a>"
      ]
    },
    {
      "cell_type": "code",
      "source": [
        "\"\"\"\n",
        "There are N hills each of height H[i] 1<=i<=N.\n",
        "Peter is scaling these hills and would like to ask Q questions\n",
        "Each question is of the form L,R to know if he can jump from hill L to R.\n",
        "Peter can jump from hill L to hill R if there is no hill in between that has height of greater than the height of the first hill . i.e ( H[i]<=H[L] L+1<=i<=R )\n",
        "Help Peter find the answer for all his questions \n",
        "\n",
        "Input Description:\n",
        "The first line contains a single integer N - the number of hills The second line contains N integers the heights of each hill The third line contains a number P - the number of questions The next P lines contains two integers L, R- the height of the hills he wants to jump between\n",
        "\n",
        "Output Description:\n",
        "The output must contain P lines- each line the answer for a question In each line output “YES” (without quotes) if he can jump Or “NO” (without quotes”) if he can’t.\n",
        "\n",
        "Sample Input :\n",
        "4\n",
        "3 2 2 3\n",
        "2\n",
        "1 2\n",
        "3 4\n",
        "Sample Output :\n",
        "YES\n",
        "NO\n",
        "\n",
        "\"\"\""
      ],
      "metadata": {
        "id": "kLOR6GfiI1Wo"
      },
      "execution_count": null,
      "outputs": []
    },
    {
      "cell_type": "code",
      "source": [
        "n = int(input())\n",
        "l = [int(x) for x in input().split()]\n",
        "q = int(input())\n",
        "for _ in range(q):\n",
        "    (a, b) = map(int, input().split())\n",
        "    flag = True\n",
        "    for i in range(a, b):\n",
        "        if l[a-1] <l[i]:\n",
        "            flag = False\n",
        "            break\n",
        "    if flag:print(\"YES\")\n",
        "    else:print(\"NO\")"
      ],
      "metadata": {
        "colab": {
          "base_uri": "https://localhost:8080/"
        },
        "id": "4RbzUzxOI1eS",
        "outputId": "e00998d6-12ce-473c-b0cf-097ae1e3e9f7"
      },
      "execution_count": 27,
      "outputs": [
        {
          "output_type": "stream",
          "name": "stdout",
          "text": [
            "4\n",
            "3 2 2 3\n",
            "2\n",
            "1 2\n",
            "YES\n",
            "3 4\n",
            "NO\n"
          ]
        }
      ]
    }
  ]
}